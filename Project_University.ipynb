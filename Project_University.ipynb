{
 "cells": [
  {
   "cell_type": "code",
   "execution_count": 18,
   "id": "562dd109-57af-4a7b-9d39-3c4d3675e1d7",
   "metadata": {},
   "outputs": [
    {
     "name": "stdin",
     "output_type": "stream",
     "text": [
      "Do you want read (press 1) or write (press 2) data? 2\n"
     ]
    },
    {
     "name": "stdout",
     "output_type": "stream",
     "text": [
      "You chose to write data\n"
     ]
    },
    {
     "name": "stdin",
     "output_type": "stream",
     "text": [
      "Do you want to see Student (press 1), Staff (press 2) or Professor (press 3) list? 1\n"
     ]
    }
   ],
   "source": [
    "class Uni():\n",
    "    def __init__(self):\n",
    "        self.i = ''\n",
    "\n",
    "    # What user want to do\n",
    "    def get_order(self):\n",
    "        self.i = input('Do you want read (press 1) or write (press 2) data?')\n",
    "\n",
    "    def get_type(self):\n",
    "        self.i = input('Do you want to see Student (press 1), Staff (press 2) or Professor (press 3) list?')\n",
    "        \n",
    "ob = Uni()\n",
    "ob.get_order()\n",
    "\n",
    "if ob.get_order == 1:\n",
    "    print('You chose to read data')\n",
    "else:\n",
    "    print('You chose to write data')\n",
    "\n",
    "ob.get_type()\n",
    "\n",
    "if ob.get_order == 1:\n",
    "    if ob.get_type == 1:\n",
    "        print('You chose Student')\n",
    "    elif ob.get_type == 2:\n",
    "        print('You chose Staff')\n",
    "    else: \n",
    "        print('You chose Professors')\n",
    "\n"
   ]
  },
  {
   "cell_type": "code",
   "execution_count": null,
   "id": "0d991e63-547f-4bf3-b9cd-afaf4b858aea",
   "metadata": {},
   "outputs": [],
   "source": []
  }
 ],
 "metadata": {
  "kernelspec": {
   "display_name": "Python 3 (ipykernel)",
   "language": "python",
   "name": "python3"
  },
  "language_info": {
   "codemirror_mode": {
    "name": "ipython",
    "version": 3
   },
   "file_extension": ".py",
   "mimetype": "text/x-python",
   "name": "python",
   "nbconvert_exporter": "python",
   "pygments_lexer": "ipython3",
   "version": "3.10.5"
  }
 },
 "nbformat": 4,
 "nbformat_minor": 5
}
