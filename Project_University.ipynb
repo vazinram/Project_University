{
 "cells": [
  {
   "cell_type": "markdown",
   "id": "d07bc8bd-afb0-4289-aefd-591c8b427e68",
   "metadata": {},
   "source": [
    "# Assignment\n",
    "## Create a System that contains:\n",
    "- Staff members - Students, Teachers\n",
    "- Courses (e.g. ML etc)\n",
    "- Registration & Grading system\n",
    "## The system must be able to:\n",
    "- Print the students list\n",
    "- Print grades per course\n",
    "- Print students with no grades yet per course\n",
    "- Plot a graph of course & pass rates\n",
    "- Export data as csv (Note: Use pandas, not just strings for this)"
   ]
  },
  {
   "cell_type": "code",
   "execution_count": 138,
   "id": "562dd109-57af-4a7b-9d39-3c4d3675e1d7",
   "metadata": {},
   "outputs": [
    {
     "name": "stdin",
     "output_type": "stream",
     "text": [
      "please enter the number of persons you want to enter: 2\n",
      "please enter input parameters: Jane', 'Connor', 20, 'female', 'student', 2001, 'y', ['math', 'programming', 'sensor'], [5, 2, 1], 'msc\n",
      "please enter input parameters: Tom', 'Barn', 24, 'male', 'student', 2002, 'y', ['lalgebra', 'programming', 'dsp'], [3, 2, 4], 'ms\n"
     ]
    },
    {
     "name": "stdout",
     "output_type": "stream",
     "text": [
      "[\"Jane', 'Connor', 20, 'female', 'student', 2001, 'y', ['math', 'programming', 'sensor'], [5, 2, 1], 'msc\", \"Tom', 'Barn', 24, 'male', 'student', 2002, 'y', ['lalgebra', 'programming', 'dsp'], [3, 2, 4], 'ms\"]\n",
      "---------------------------\n",
      "False\n"
     ]
    }
   ],
   "source": [
    "x = int(input('please enter the number of persons you want to enter:'))\n",
    "'''\n",
    "class Get_Values():\n",
    "    lst = []\n",
    "    def __init__(self):\n",
    "        # self.lst = []\n",
    "        self.get = ()\n",
    "    def get_inputs(self):\n",
    "        for _ in range(x):\n",
    "            self.get = input(\"please enter input parameters:\")\n",
    "            self.lst.append(self.get)\n",
    "    def show_inputs(self):\n",
    "        return self.lst\n",
    "'''\n",
    "\n",
    "# Define General info for each person\n",
    "class Person():\n",
    "    # lst_p = []\n",
    "    def __init__(self, fname, lname, position):\n",
    "        self.d_p = {}\n",
    "        self.d_p['fname'] = fname\n",
    "        self.d_p['lname'] = lname\n",
    "        self.d_p['position'] = position\n",
    "        # self.fname = fname\n",
    "        # self.lname = lname\n",
    "        # self.age = age\n",
    "        # self.gender = gender\n",
    "    # def input_p(self):\n",
    "    #     for _ in range(x):\n",
    "    #         self.get_p = input(\"please enter input parameters:\")\n",
    "    #         self.lst.append(self.get_p)\n",
    "    # def show_p(self):\n",
    "    #     return self.d_p\n",
    "\n",
    "# Define specific info for students\n",
    "class Student(Person):\n",
    "    def __init__(self, lst, fname, lname, age, gender, position, s_id, register, courses, grades, academic):\n",
    "        Person.__init__(self, fname, lname, age, gender, position)\n",
    "        self.d_s = {}\n",
    "        self.d_s['fname'] = fname\n",
    "        self.d_s['lname'] = lname\n",
    "        self.d_s['age'] = age\n",
    "        self.d_s['gender'] = gender\n",
    "        self.d_s['s_id'] = s_id\n",
    "        self.d_s['register'] = register\n",
    "        self.d_s['courses'] = courses\n",
    "        self.d_s['grades'] = grades\n",
    "        self.d_s['academic'] = academic  \n",
    "    def input_s(self):\n",
    "        for _ in range(x):\n",
    "            self.get_s = input(\"please enter input parameters:\")\n",
    "            self.lst.append(self.get_s)\n",
    "    def show_s(self):\n",
    "        return self.lst\n",
    "        \n",
    "        # self.s_id = s_id \n",
    "        # self.register = register\n",
    "        # self.courses = courses\n",
    "        # self.grades = grades\n",
    "        # self.academic = academic\n",
    "    # def show_s(self):\n",
    "    #     print(self.lname)\n",
    "\n",
    "    \n",
    "    \n",
    "ob = Student()\n",
    "    \n",
    "'''\n",
    "lst_s = []\n",
    "    \n",
    "ob1 = Student('Jane', 'Connor', 20, 'female', 'student', 2001, 'y', ['math', 'programming', 'sensor'], [5, 2, 1], 'msc')\n",
    "ob2 = Student('Tom', 'Barn', 24, 'male', 'student', 2002, 'y', ['lalgebra', 'programming', 'dsp'], [3, 2, 4], 'msc')\n",
    "\n",
    "lst_s.append(ob1.show_s())\n",
    "lst_s.append(ob2.show_s())\n",
    "\n",
    "\n",
    "print(lst_s)\n",
    "print('---------------------------')\n",
    "print(lst_s[1]['fname'])\n",
    "print('---------------------------')\n",
    "'''\n",
    "\n",
    "# obv = Get_Values()\n",
    "# obv.get_inputs()\n",
    "# print(obv.show_inputs())\n",
    "\n",
    "# print(obv.get)\n",
    "# print(obv.__dict__)\n",
    "print('---------------------------')\n",
    "print(isinstance(ob1,Person))\n",
    "# print(ob1.show_p())\n",
    "\n",
    "# print(ob1.show_s())\n",
    "# ob1.courses\n",
    "# print(ob1.__dict__)\n",
    "# print(ob1.__doc__)\n",
    "# ob1.d_p"
   ]
  },
  {
   "cell_type": "code",
   "execution_count": 121,
   "id": "eb8c9dd6-c940-4759-a182-ea004ec0b0a4",
   "metadata": {},
   "outputs": [
    {
     "name": "stdout",
     "output_type": "stream",
     "text": [
      "[]\n"
     ]
    }
   ],
   "source": [
    "print(obv.lst)"
   ]
  }
 ],
 "metadata": {
  "kernelspec": {
   "display_name": "Python 3 (ipykernel)",
   "language": "python",
   "name": "python3"
  },
  "language_info": {
   "codemirror_mode": {
    "name": "ipython",
    "version": 3
   },
   "file_extension": ".py",
   "mimetype": "text/x-python",
   "name": "python",
   "nbconvert_exporter": "python",
   "pygments_lexer": "ipython3",
   "version": "3.10.5"
  }
 },
 "nbformat": 4,
 "nbformat_minor": 5
}
